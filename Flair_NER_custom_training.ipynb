{
  "nbformat": 4,
  "nbformat_minor": 0,
  "metadata": {
    "colab": {
      "provenance": [],
      "gpuType": "T4"
    },
    "kernelspec": {
      "name": "python3",
      "display_name": "Python 3"
    },
    "language_info": {
      "name": "python"
    },
    "accelerator": "GPU"
  },
  "cells": [
    {
      "cell_type": "code",
      "execution_count": 1,
      "metadata": {
        "id": "A3XAgLpdY92Z"
      },
      "outputs": [],
      "source": [
        "import pandas as pd\n",
        "import json\n",
        "import sys,sysconfig,os\n",
        ""
      ]
    },
    {
      "cell_type": "code",
      "source": [
        "# /content/ner.csv"
      ],
      "metadata": {
        "id": "oXkd9vieacwm"
      },
      "execution_count": 2,
      "outputs": []
    },
    {
      "cell_type": "code",
      "source": [
        "data = pd.read_csv(\"/content/ner.csv\",encoding = \"ISO-8859-1\",usecols=['sentence_idx', 'word', 'tag'])\n",
        "\n"
      ],
      "metadata": {
        "id": "HOvHcK0sZoaY"
      },
      "execution_count": 3,
      "outputs": []
    },
    {
      "cell_type": "code",
      "source": [
        "data  = data[data['sentence_idx'] != 'prev-lemma'].dropna(subset=['sentence_idx']).reset_index(drop=True)\n",
        "data['sentence_idx'] = data['sentence_idx'].apply(int)\n",
        "print(data.shape)\n",
        "print(data.head())\n",
        "\n"
      ],
      "metadata": {
        "colab": {
          "base_uri": "https://localhost:8080/"
        },
        "id": "3fkxn1GdZr0H",
        "outputId": "57adee14-e92d-46a6-ec57-0bfd8b75bc9a"
      },
      "execution_count": 4,
      "outputs": [
        {
          "output_type": "stream",
          "name": "stdout",
          "text": [
            "(14391, 3)\n",
            "   sentence_idx           word tag\n",
            "0             1      Thousands   O\n",
            "1             1             of   O\n",
            "2             1  demonstrators   O\n",
            "3             1           have   O\n",
            "4             1        marched   O\n"
          ]
        }
      ]
    },
    {
      "cell_type": "code",
      "source": [
        "mask = data['sentence_idx'].ne(data['sentence_idx'].shift(-1))\n",
        "data1 = pd.DataFrame('',index=mask.index[mask] + .5, columns=data.columns)\n",
        "\n",
        "data = pd.concat([data, data1]).sort_index().reset_index(drop=True).iloc[:-1]\n",
        "data[['word', 'tag']].to_csv('/content/data.txt', sep=' ', index=False, header=False)\n",
        "print(data.head(30))\n",
        "\n",
        "\n"
      ],
      "metadata": {
        "colab": {
          "base_uri": "https://localhost:8080/"
        },
        "id": "_WB3zTLqZwIM",
        "outputId": "7dc64303-ce08-41a6-bd08-7102bde4a4ab"
      },
      "execution_count": 5,
      "outputs": [
        {
          "output_type": "stream",
          "name": "stdout",
          "text": [
            "   sentence_idx           word    tag\n",
            "0             1      Thousands      O\n",
            "1             1             of      O\n",
            "2             1  demonstrators      O\n",
            "3             1           have      O\n",
            "4             1        marched      O\n",
            "5             1        through      O\n",
            "6             1         London  B-geo\n",
            "7             1             to      O\n",
            "8             1        protest      O\n",
            "9             1            the      O\n",
            "10            1            war      O\n",
            "11            1             in      O\n",
            "12            1           Iraq  B-geo\n",
            "13            1            and      O\n",
            "14            1         demand      O\n",
            "15            1            the      O\n",
            "16            1     withdrawal      O\n",
            "17            1             of      O\n",
            "18            1        British  B-gpe\n",
            "19            1         troops      O\n",
            "20            1           from      O\n",
            "21            1           that      O\n",
            "22            1        country      O\n",
            "23            1              .      O\n",
            "24                                   \n",
            "25            2       Families      O\n",
            "26            2             of      O\n",
            "27            2       soldiers      O\n",
            "28            2         killed      O\n",
            "29            2             in      O\n"
          ]
        }
      ]
    },
    {
      "cell_type": "code",
      "source": [
        "pip install flair"
      ],
      "metadata": {
        "colab": {
          "base_uri": "https://localhost:8080/"
        },
        "id": "tR0dBD9RaoHR",
        "outputId": "0140984c-239f-4867-854b-74a0b1aaaf5e"
      },
      "execution_count": 6,
      "outputs": [
        {
          "output_type": "stream",
          "name": "stdout",
          "text": [
            "Collecting flair\n",
            "  Downloading flair-0.12.2-py3-none-any.whl (373 kB)\n",
            "\u001b[?25l     \u001b[90m━━━━━━━━━━━━━━━━━━━━━━━━━━━━━━━━━━━━━━━━\u001b[0m \u001b[32m0.0/373.1 kB\u001b[0m \u001b[31m?\u001b[0m eta \u001b[36m-:--:--\u001b[0m\r\u001b[2K     \u001b[91m━━━━━━━━━━━━━━━━━━\u001b[0m\u001b[90m╺\u001b[0m\u001b[90m━━━━━━━━━━━━━━━━━━━━\u001b[0m \u001b[32m174.1/373.1 kB\u001b[0m \u001b[31m5.0 MB/s\u001b[0m eta \u001b[36m0:00:01\u001b[0m\r\u001b[2K     \u001b[90m━━━━━━━━━━━━━━━━━━━━━━━━━━━━━━━━━━━━━━━\u001b[0m \u001b[32m373.1/373.1 kB\u001b[0m \u001b[31m6.0 MB/s\u001b[0m eta \u001b[36m0:00:00\u001b[0m\n",
            "\u001b[?25hRequirement already satisfied: python-dateutil>=2.6.1 in /usr/local/lib/python3.10/dist-packages (from flair) (2.8.2)\n",
            "Requirement already satisfied: torch!=1.8,>=1.5.0 in /usr/local/lib/python3.10/dist-packages (from flair) (2.0.1+cu118)\n",
            "Requirement already satisfied: gensim>=3.8.0 in /usr/local/lib/python3.10/dist-packages (from flair) (4.3.1)\n",
            "Requirement already satisfied: tqdm>=4.26.0 in /usr/local/lib/python3.10/dist-packages (from flair) (4.66.1)\n",
            "Collecting segtok>=1.5.7 (from flair)\n",
            "  Downloading segtok-1.5.11-py3-none-any.whl (24 kB)\n",
            "Requirement already satisfied: matplotlib>=2.2.3 in /usr/local/lib/python3.10/dist-packages (from flair) (3.7.1)\n",
            "Collecting mpld3==0.3 (from flair)\n",
            "  Downloading mpld3-0.3.tar.gz (788 kB)\n",
            "\u001b[2K     \u001b[90m━━━━━━━━━━━━━━━━━━━━━━━━━━━━━━━━━━━━━━\u001b[0m \u001b[32m788.5/788.5 kB\u001b[0m \u001b[31m12.4 MB/s\u001b[0m eta \u001b[36m0:00:00\u001b[0m\n",
            "\u001b[?25h  Preparing metadata (setup.py) ... \u001b[?25l\u001b[?25hdone\n",
            "Requirement already satisfied: scikit-learn>=0.21.3 in /usr/local/lib/python3.10/dist-packages (from flair) (1.2.2)\n",
            "Collecting sqlitedict>=1.6.0 (from flair)\n",
            "  Downloading sqlitedict-2.1.0.tar.gz (21 kB)\n",
            "  Preparing metadata (setup.py) ... \u001b[?25l\u001b[?25hdone\n",
            "Collecting deprecated>=1.2.4 (from flair)\n",
            "  Downloading Deprecated-1.2.14-py2.py3-none-any.whl (9.6 kB)\n",
            "Requirement already satisfied: hyperopt>=0.2.7 in /usr/local/lib/python3.10/dist-packages (from flair) (0.2.7)\n",
            "Collecting boto3 (from flair)\n",
            "  Downloading boto3-1.28.42-py3-none-any.whl (135 kB)\n",
            "\u001b[2K     \u001b[90m━━━━━━━━━━━━━━━━━━━━━━━━━━━━━━━━━━━━━━\u001b[0m \u001b[32m135.8/135.8 kB\u001b[0m \u001b[31m11.0 MB/s\u001b[0m eta \u001b[36m0:00:00\u001b[0m\n",
            "\u001b[?25hCollecting transformers[sentencepiece]>=4.18.0 (from flair)\n",
            "  Downloading transformers-4.33.1-py3-none-any.whl (7.6 MB)\n",
            "\u001b[2K     \u001b[90m━━━━━━━━━━━━━━━━━━━━━━━━━━━━━━━━━━━━━━━━\u001b[0m \u001b[32m7.6/7.6 MB\u001b[0m \u001b[31m34.6 MB/s\u001b[0m eta \u001b[36m0:00:00\u001b[0m\n",
            "\u001b[?25hCollecting bpemb>=0.3.2 (from flair)\n",
            "  Downloading bpemb-0.3.4-py3-none-any.whl (19 kB)\n",
            "Requirement already satisfied: regex in /usr/local/lib/python3.10/dist-packages (from flair) (2023.6.3)\n",
            "Requirement already satisfied: tabulate in /usr/local/lib/python3.10/dist-packages (from flair) (0.9.0)\n",
            "Collecting langdetect (from flair)\n",
            "  Downloading langdetect-1.0.9.tar.gz (981 kB)\n",
            "\u001b[2K     \u001b[90m━━━━━━━━━━━━━━━━━━━━━━━━━━━━━━━━━━━━━━\u001b[0m \u001b[32m981.5/981.5 kB\u001b[0m \u001b[31m50.9 MB/s\u001b[0m eta \u001b[36m0:00:00\u001b[0m\n",
            "\u001b[?25h  Preparing metadata (setup.py) ... \u001b[?25l\u001b[?25hdone\n",
            "Requirement already satisfied: lxml in /usr/local/lib/python3.10/dist-packages (from flair) (4.9.3)\n",
            "Collecting ftfy (from flair)\n",
            "  Downloading ftfy-6.1.1-py3-none-any.whl (53 kB)\n",
            "\u001b[2K     \u001b[90m━━━━━━━━━━━━━━━━━━━━━━━━━━━━━━━━━━━━━━━━\u001b[0m \u001b[32m53.1/53.1 kB\u001b[0m \u001b[31m7.8 MB/s\u001b[0m eta \u001b[36m0:00:00\u001b[0m\n",
            "\u001b[?25hCollecting janome (from flair)\n",
            "  Downloading Janome-0.5.0-py2.py3-none-any.whl (19.7 MB)\n",
            "\u001b[2K     \u001b[90m━━━━━━━━━━━━━━━━━━━━━━━━━━━━━━━━━━━━━━━━\u001b[0m \u001b[32m19.7/19.7 MB\u001b[0m \u001b[31m84.7 MB/s\u001b[0m eta \u001b[36m0:00:00\u001b[0m\n",
            "\u001b[?25hCollecting gdown==4.4.0 (from flair)\n",
            "  Downloading gdown-4.4.0.tar.gz (14 kB)\n",
            "  Installing build dependencies ... \u001b[?25l\u001b[?25hdone\n",
            "  Getting requirements to build wheel ... \u001b[?25l\u001b[?25hdone\n",
            "  Preparing metadata (pyproject.toml) ... \u001b[?25l\u001b[?25hdone\n",
            "Collecting huggingface-hub>=0.10.0 (from flair)\n",
            "  Downloading huggingface_hub-0.16.4-py3-none-any.whl (268 kB)\n",
            "\u001b[2K     \u001b[90m━━━━━━━━━━━━━━━━━━━━━━━━━━━━━━━━━━━━━━\u001b[0m \u001b[32m268.8/268.8 kB\u001b[0m \u001b[31m34.2 MB/s\u001b[0m eta \u001b[36m0:00:00\u001b[0m\n",
            "\u001b[?25hCollecting conllu>=4.0 (from flair)\n",
            "  Downloading conllu-4.5.3-py2.py3-none-any.whl (16 kB)\n",
            "Requirement already satisfied: more-itertools in /usr/local/lib/python3.10/dist-packages (from flair) (10.1.0)\n",
            "Collecting wikipedia-api (from flair)\n",
            "  Downloading Wikipedia_API-0.6.0-py3-none-any.whl (14 kB)\n",
            "Collecting pptree (from flair)\n",
            "  Downloading pptree-3.1.tar.gz (3.0 kB)\n",
            "  Preparing metadata (setup.py) ... \u001b[?25l\u001b[?25hdone\n",
            "Collecting pytorch-revgrad (from flair)\n",
            "  Downloading pytorch_revgrad-0.2.0-py3-none-any.whl (4.6 kB)\n",
            "Collecting transformer-smaller-training-vocab>=0.2.1 (from flair)\n",
            "  Downloading transformer_smaller_training_vocab-0.3.1-py3-none-any.whl (14 kB)\n",
            "Requirement already satisfied: filelock in /usr/local/lib/python3.10/dist-packages (from gdown==4.4.0->flair) (3.12.2)\n",
            "Requirement already satisfied: requests[socks] in /usr/local/lib/python3.10/dist-packages (from gdown==4.4.0->flair) (2.31.0)\n",
            "Requirement already satisfied: six in /usr/local/lib/python3.10/dist-packages (from gdown==4.4.0->flair) (1.16.0)\n",
            "Requirement already satisfied: beautifulsoup4 in /usr/local/lib/python3.10/dist-packages (from gdown==4.4.0->flair) (4.11.2)\n",
            "Requirement already satisfied: numpy in /usr/local/lib/python3.10/dist-packages (from bpemb>=0.3.2->flair) (1.23.5)\n",
            "Collecting sentencepiece (from bpemb>=0.3.2->flair)\n",
            "  Downloading sentencepiece-0.1.99-cp310-cp310-manylinux_2_17_x86_64.manylinux2014_x86_64.whl (1.3 MB)\n",
            "\u001b[2K     \u001b[90m━━━━━━━━━━━━━━━━━━━━━━━━━━━━━━━━━━━━━━━━\u001b[0m \u001b[32m1.3/1.3 MB\u001b[0m \u001b[31m94.2 MB/s\u001b[0m eta \u001b[36m0:00:00\u001b[0m\n",
            "\u001b[?25hRequirement already satisfied: wrapt<2,>=1.10 in /usr/local/lib/python3.10/dist-packages (from deprecated>=1.2.4->flair) (1.14.1)\n",
            "Requirement already satisfied: scipy>=1.7.0 in /usr/local/lib/python3.10/dist-packages (from gensim>=3.8.0->flair) (1.10.1)\n",
            "Requirement already satisfied: smart-open>=1.8.1 in /usr/local/lib/python3.10/dist-packages (from gensim>=3.8.0->flair) (6.3.0)\n",
            "Requirement already satisfied: fsspec in /usr/local/lib/python3.10/dist-packages (from huggingface-hub>=0.10.0->flair) (2023.6.0)\n",
            "Requirement already satisfied: pyyaml>=5.1 in /usr/local/lib/python3.10/dist-packages (from huggingface-hub>=0.10.0->flair) (6.0.1)\n",
            "Requirement already satisfied: typing-extensions>=3.7.4.3 in /usr/local/lib/python3.10/dist-packages (from huggingface-hub>=0.10.0->flair) (4.7.1)\n",
            "Requirement already satisfied: packaging>=20.9 in /usr/local/lib/python3.10/dist-packages (from huggingface-hub>=0.10.0->flair) (23.1)\n",
            "Requirement already satisfied: networkx>=2.2 in /usr/local/lib/python3.10/dist-packages (from hyperopt>=0.2.7->flair) (3.1)\n",
            "Requirement already satisfied: future in /usr/local/lib/python3.10/dist-packages (from hyperopt>=0.2.7->flair) (0.18.3)\n",
            "Requirement already satisfied: cloudpickle in /usr/local/lib/python3.10/dist-packages (from hyperopt>=0.2.7->flair) (2.2.1)\n",
            "Requirement already satisfied: py4j in /usr/local/lib/python3.10/dist-packages (from hyperopt>=0.2.7->flair) (0.10.9.7)\n",
            "Requirement already satisfied: contourpy>=1.0.1 in /usr/local/lib/python3.10/dist-packages (from matplotlib>=2.2.3->flair) (1.1.0)\n",
            "Requirement already satisfied: cycler>=0.10 in /usr/local/lib/python3.10/dist-packages (from matplotlib>=2.2.3->flair) (0.11.0)\n",
            "Requirement already satisfied: fonttools>=4.22.0 in /usr/local/lib/python3.10/dist-packages (from matplotlib>=2.2.3->flair) (4.42.1)\n",
            "Requirement already satisfied: kiwisolver>=1.0.1 in /usr/local/lib/python3.10/dist-packages (from matplotlib>=2.2.3->flair) (1.4.4)\n",
            "Requirement already satisfied: pillow>=6.2.0 in /usr/local/lib/python3.10/dist-packages (from matplotlib>=2.2.3->flair) (9.4.0)\n",
            "Requirement already satisfied: pyparsing>=2.3.1 in /usr/local/lib/python3.10/dist-packages (from matplotlib>=2.2.3->flair) (3.1.1)\n",
            "Requirement already satisfied: joblib>=1.1.1 in /usr/local/lib/python3.10/dist-packages (from scikit-learn>=0.21.3->flair) (1.3.2)\n",
            "Requirement already satisfied: threadpoolctl>=2.0.0 in /usr/local/lib/python3.10/dist-packages (from scikit-learn>=0.21.3->flair) (3.2.0)\n",
            "Requirement already satisfied: sympy in /usr/local/lib/python3.10/dist-packages (from torch!=1.8,>=1.5.0->flair) (1.12)\n",
            "Requirement already satisfied: jinja2 in /usr/local/lib/python3.10/dist-packages (from torch!=1.8,>=1.5.0->flair) (3.1.2)\n",
            "Requirement already satisfied: triton==2.0.0 in /usr/local/lib/python3.10/dist-packages (from torch!=1.8,>=1.5.0->flair) (2.0.0)\n",
            "Requirement already satisfied: cmake in /usr/local/lib/python3.10/dist-packages (from triton==2.0.0->torch!=1.8,>=1.5.0->flair) (3.27.2)\n",
            "Requirement already satisfied: lit in /usr/local/lib/python3.10/dist-packages (from triton==2.0.0->torch!=1.8,>=1.5.0->flair) (16.0.6)\n",
            "Collecting torch!=1.8,>=1.5.0 (from flair)\n",
            "  Downloading torch-2.0.0-cp310-cp310-manylinux1_x86_64.whl (619.9 MB)\n",
            "\u001b[2K     \u001b[90m━━━━━━━━━━━━━━━━━━━━━━━━━━━━━━━━━━━━━━━\u001b[0m \u001b[32m619.9/619.9 MB\u001b[0m \u001b[31m2.4 MB/s\u001b[0m eta \u001b[36m0:00:00\u001b[0m\n",
            "\u001b[?25hCollecting nvidia-cuda-nvrtc-cu11==11.7.99 (from torch!=1.8,>=1.5.0->flair)\n",
            "  Downloading nvidia_cuda_nvrtc_cu11-11.7.99-2-py3-none-manylinux1_x86_64.whl (21.0 MB)\n",
            "\u001b[2K     \u001b[90m━━━━━━━━━━━━━━━━━━━━━━━━━━━━━━━━━━━━━━━━\u001b[0m \u001b[32m21.0/21.0 MB\u001b[0m \u001b[31m75.2 MB/s\u001b[0m eta \u001b[36m0:00:00\u001b[0m\n",
            "\u001b[?25hCollecting nvidia-cuda-runtime-cu11==11.7.99 (from torch!=1.8,>=1.5.0->flair)\n",
            "  Downloading nvidia_cuda_runtime_cu11-11.7.99-py3-none-manylinux1_x86_64.whl (849 kB)\n",
            "\u001b[2K     \u001b[90m━━━━━━━━━━━━━━━━━━━━━━━━━━━━━━━━━━━━━━\u001b[0m \u001b[32m849.3/849.3 kB\u001b[0m \u001b[31m74.0 MB/s\u001b[0m eta \u001b[36m0:00:00\u001b[0m\n",
            "\u001b[?25hCollecting nvidia-cuda-cupti-cu11==11.7.101 (from torch!=1.8,>=1.5.0->flair)\n",
            "  Downloading nvidia_cuda_cupti_cu11-11.7.101-py3-none-manylinux1_x86_64.whl (11.8 MB)\n",
            "\u001b[2K     \u001b[90m━━━━━━━━━━━━━━━━━━━━━━━━━━━━━━━━━━━━━━━\u001b[0m \u001b[32m11.8/11.8 MB\u001b[0m \u001b[31m108.6 MB/s\u001b[0m eta \u001b[36m0:00:00\u001b[0m\n",
            "\u001b[?25hCollecting nvidia-cudnn-cu11==8.5.0.96 (from torch!=1.8,>=1.5.0->flair)\n",
            "  Downloading nvidia_cudnn_cu11-8.5.0.96-2-py3-none-manylinux1_x86_64.whl (557.1 MB)\n",
            "\u001b[2K     \u001b[90m━━━━━━━━━━━━━━━━━━━━━━━━━━━━━━━━━━━━━━━\u001b[0m \u001b[32m557.1/557.1 MB\u001b[0m \u001b[31m3.1 MB/s\u001b[0m eta \u001b[36m0:00:00\u001b[0m\n",
            "\u001b[?25hCollecting nvidia-cublas-cu11==11.10.3.66 (from torch!=1.8,>=1.5.0->flair)\n",
            "  Downloading nvidia_cublas_cu11-11.10.3.66-py3-none-manylinux1_x86_64.whl (317.1 MB)\n",
            "\u001b[2K     \u001b[90m━━━━━━━━━━━━━━━━━━━━━━━━━━━━━━━━━━━━━━━\u001b[0m \u001b[32m317.1/317.1 MB\u001b[0m \u001b[31m2.6 MB/s\u001b[0m eta \u001b[36m0:00:00\u001b[0m\n",
            "\u001b[?25hCollecting nvidia-cufft-cu11==10.9.0.58 (from torch!=1.8,>=1.5.0->flair)\n",
            "  Downloading nvidia_cufft_cu11-10.9.0.58-py3-none-manylinux1_x86_64.whl (168.4 MB)\n",
            "\u001b[2K     \u001b[90m━━━━━━━━━━━━━━━━━━━━━━━━━━━━━━━━━━━━━━━\u001b[0m \u001b[32m168.4/168.4 MB\u001b[0m \u001b[31m6.6 MB/s\u001b[0m eta \u001b[36m0:00:00\u001b[0m\n",
            "\u001b[?25hCollecting nvidia-curand-cu11==10.2.10.91 (from torch!=1.8,>=1.5.0->flair)\n",
            "  Downloading nvidia_curand_cu11-10.2.10.91-py3-none-manylinux1_x86_64.whl (54.6 MB)\n",
            "\u001b[2K     \u001b[90m━━━━━━━━━━━━━━━━━━━━━━━━━━━━━━━━━━━━━━━━\u001b[0m \u001b[32m54.6/54.6 MB\u001b[0m \u001b[31m12.4 MB/s\u001b[0m eta \u001b[36m0:00:00\u001b[0m\n",
            "\u001b[?25hCollecting nvidia-cusolver-cu11==11.4.0.1 (from torch!=1.8,>=1.5.0->flair)\n",
            "  Downloading nvidia_cusolver_cu11-11.4.0.1-2-py3-none-manylinux1_x86_64.whl (102.6 MB)\n",
            "\u001b[2K     \u001b[90m━━━━━━━━━━━━━━━━━━━━━━━━━━━━━━━━━━━━━━━\u001b[0m \u001b[32m102.6/102.6 MB\u001b[0m \u001b[31m9.0 MB/s\u001b[0m eta \u001b[36m0:00:00\u001b[0m\n",
            "\u001b[?25hCollecting nvidia-cusparse-cu11==11.7.4.91 (from torch!=1.8,>=1.5.0->flair)\n",
            "  Downloading nvidia_cusparse_cu11-11.7.4.91-py3-none-manylinux1_x86_64.whl (173.2 MB)\n",
            "\u001b[2K     \u001b[90m━━━━━━━━━━━━━━━━━━━━━━━━━━━━━━━━━━━━━━━\u001b[0m \u001b[32m173.2/173.2 MB\u001b[0m \u001b[31m7.0 MB/s\u001b[0m eta \u001b[36m0:00:00\u001b[0m\n",
            "\u001b[?25hCollecting nvidia-nccl-cu11==2.14.3 (from torch!=1.8,>=1.5.0->flair)\n",
            "  Downloading nvidia_nccl_cu11-2.14.3-py3-none-manylinux1_x86_64.whl (177.1 MB)\n",
            "\u001b[2K     \u001b[90m━━━━━━━━━━━━━━━━━━━━━━━━━━━━━━━━━━━━━━━\u001b[0m \u001b[32m177.1/177.1 MB\u001b[0m \u001b[31m6.5 MB/s\u001b[0m eta \u001b[36m0:00:00\u001b[0m\n",
            "\u001b[?25hCollecting nvidia-nvtx-cu11==11.7.91 (from torch!=1.8,>=1.5.0->flair)\n",
            "  Downloading nvidia_nvtx_cu11-11.7.91-py3-none-manylinux1_x86_64.whl (98 kB)\n",
            "\u001b[2K     \u001b[90m━━━━━━━━━━━━━━━━━━━━━━━━━━━━━━━━━━━━━━━━\u001b[0m \u001b[32m98.6/98.6 kB\u001b[0m \u001b[31m11.6 MB/s\u001b[0m eta \u001b[36m0:00:00\u001b[0m\n",
            "\u001b[?25hRequirement already satisfied: setuptools in /usr/local/lib/python3.10/dist-packages (from nvidia-cublas-cu11==11.10.3.66->torch!=1.8,>=1.5.0->flair) (67.7.2)\n",
            "Requirement already satisfied: wheel in /usr/local/lib/python3.10/dist-packages (from nvidia-cublas-cu11==11.10.3.66->torch!=1.8,>=1.5.0->flair) (0.41.2)\n",
            "Collecting tokenizers!=0.11.3,<0.14,>=0.11.1 (from transformers[sentencepiece]>=4.18.0->flair)\n",
            "  Downloading tokenizers-0.13.3-cp310-cp310-manylinux_2_17_x86_64.manylinux2014_x86_64.whl (7.8 MB)\n",
            "\u001b[2K     \u001b[90m━━━━━━━━━━━━━━━━━━━━━━━━━━━━━━━━━━━━━━━━\u001b[0m \u001b[32m7.8/7.8 MB\u001b[0m \u001b[31m115.9 MB/s\u001b[0m eta \u001b[36m0:00:00\u001b[0m\n",
            "\u001b[?25hCollecting safetensors>=0.3.1 (from transformers[sentencepiece]>=4.18.0->flair)\n",
            "  Downloading safetensors-0.3.3-cp310-cp310-manylinux_2_17_x86_64.manylinux2014_x86_64.whl (1.3 MB)\n",
            "\u001b[2K     \u001b[90m━━━━━━━━━━━━━━━━━━━━━━━━━━━━━━━━━━━━━━━━\u001b[0m \u001b[32m1.3/1.3 MB\u001b[0m \u001b[31m84.6 MB/s\u001b[0m eta \u001b[36m0:00:00\u001b[0m\n",
            "\u001b[?25hRequirement already satisfied: protobuf in /usr/local/lib/python3.10/dist-packages (from transformers[sentencepiece]>=4.18.0->flair) (3.20.3)\n",
            "Collecting botocore<1.32.0,>=1.31.42 (from boto3->flair)\n",
            "  Downloading botocore-1.31.42-py3-none-any.whl (11.2 MB)\n",
            "\u001b[2K     \u001b[90m━━━━━━━━━━━━━━━━━━━━━━━━━━━━━━━━━━━━━━━\u001b[0m \u001b[32m11.2/11.2 MB\u001b[0m \u001b[31m116.9 MB/s\u001b[0m eta \u001b[36m0:00:00\u001b[0m\n",
            "\u001b[?25hCollecting jmespath<2.0.0,>=0.7.1 (from boto3->flair)\n",
            "  Downloading jmespath-1.0.1-py3-none-any.whl (20 kB)\n",
            "Collecting s3transfer<0.7.0,>=0.6.0 (from boto3->flair)\n",
            "  Downloading s3transfer-0.6.2-py3-none-any.whl (79 kB)\n",
            "\u001b[2K     \u001b[90m━━━━━━━━━━━━━━━━━━━━━━━━━━━━━━━━━━━━━━━━\u001b[0m \u001b[32m79.8/79.8 kB\u001b[0m \u001b[31m9.6 MB/s\u001b[0m eta \u001b[36m0:00:00\u001b[0m\n",
            "\u001b[?25hRequirement already satisfied: wcwidth>=0.2.5 in /usr/local/lib/python3.10/dist-packages (from ftfy->flair) (0.2.6)\n",
            "Collecting urllib3<1.27,>=1.25.4 (from botocore<1.32.0,>=1.31.42->boto3->flair)\n",
            "  Downloading urllib3-1.26.16-py2.py3-none-any.whl (143 kB)\n",
            "\u001b[2K     \u001b[90m━━━━━━━━━━━━━━━━━━━━━━━━━━━━━━━━━━━━━━\u001b[0m \u001b[32m143.1/143.1 kB\u001b[0m \u001b[31m19.0 MB/s\u001b[0m eta \u001b[36m0:00:00\u001b[0m\n",
            "\u001b[?25hCollecting accelerate>=0.20.3 (from transformers[sentencepiece]>=4.18.0->flair)\n",
            "  Downloading accelerate-0.22.0-py3-none-any.whl (251 kB)\n",
            "\u001b[2K     \u001b[90m━━━━━━━━━━━━━━━━━━━━━━━━━━━━━━━━━━━━━━\u001b[0m \u001b[32m251.2/251.2 kB\u001b[0m \u001b[31m32.8 MB/s\u001b[0m eta \u001b[36m0:00:00\u001b[0m\n",
            "\u001b[?25hRequirement already satisfied: soupsieve>1.2 in /usr/local/lib/python3.10/dist-packages (from beautifulsoup4->gdown==4.4.0->flair) (2.4.1)\n",
            "Requirement already satisfied: MarkupSafe>=2.0 in /usr/local/lib/python3.10/dist-packages (from jinja2->torch!=1.8,>=1.5.0->flair) (2.1.3)\n",
            "Requirement already satisfied: charset-normalizer<4,>=2 in /usr/local/lib/python3.10/dist-packages (from requests[socks]->gdown==4.4.0->flair) (3.2.0)\n",
            "Requirement already satisfied: idna<4,>=2.5 in /usr/local/lib/python3.10/dist-packages (from requests[socks]->gdown==4.4.0->flair) (3.4)\n",
            "Requirement already satisfied: certifi>=2017.4.17 in /usr/local/lib/python3.10/dist-packages (from requests[socks]->gdown==4.4.0->flair) (2023.7.22)\n",
            "Requirement already satisfied: PySocks!=1.5.7,>=1.5.6 in /usr/local/lib/python3.10/dist-packages (from requests[socks]->gdown==4.4.0->flair) (1.7.1)\n",
            "Requirement already satisfied: mpmath>=0.19 in /usr/local/lib/python3.10/dist-packages (from sympy->torch!=1.8,>=1.5.0->flair) (1.3.0)\n",
            "Requirement already satisfied: psutil in /usr/local/lib/python3.10/dist-packages (from accelerate>=0.20.3->transformers[sentencepiece]>=4.18.0->flair) (5.9.5)\n",
            "Building wheels for collected packages: gdown, mpld3, sqlitedict, langdetect, pptree\n",
            "  Building wheel for gdown (pyproject.toml) ... \u001b[?25l\u001b[?25hdone\n",
            "  Created wheel for gdown: filename=gdown-4.4.0-py3-none-any.whl size=14758 sha256=0fbb9a2d37e4cc81cb72fd18b3a042041a721f177748eba8ce915ab0a619b505\n",
            "  Stored in directory: /root/.cache/pip/wheels/03/0b/3f/6ddf67a417a5b400b213b0bb772a50276c199a386b12c06bfc\n",
            "  Building wheel for mpld3 (setup.py) ... \u001b[?25l\u001b[?25hdone\n",
            "  Created wheel for mpld3: filename=mpld3-0.3-py3-none-any.whl size=116686 sha256=d91e6640e1a80fdbe41b3cd17d2b1721a48b652a3d75d2190b2e012d6a66cab9\n",
            "  Stored in directory: /root/.cache/pip/wheels/9c/92/f7/45d9aac5dcfb1c2a1761a272365599cc7ba1050ce211a3fd9a\n",
            "  Building wheel for sqlitedict (setup.py) ... \u001b[?25l\u001b[?25hdone\n",
            "  Created wheel for sqlitedict: filename=sqlitedict-2.1.0-py3-none-any.whl size=16864 sha256=b96494d389d19e81da12a33d99c3903757982583082452b2a18a4ce839e75aa4\n",
            "  Stored in directory: /root/.cache/pip/wheels/79/d6/e7/304e0e6cb2221022c26d8161f7c23cd4f259a9e41e8bbcfabd\n",
            "  Building wheel for langdetect (setup.py) ... \u001b[?25l\u001b[?25hdone\n",
            "  Created wheel for langdetect: filename=langdetect-1.0.9-py3-none-any.whl size=993224 sha256=12228467521903983515c1e00071aee144b3de573ee4c852d6c270656ab132f0\n",
            "  Stored in directory: /root/.cache/pip/wheels/95/03/7d/59ea870c70ce4e5a370638b5462a7711ab78fba2f655d05106\n",
            "  Building wheel for pptree (setup.py) ... \u001b[?25l\u001b[?25hdone\n",
            "  Created wheel for pptree: filename=pptree-3.1-py3-none-any.whl size=4609 sha256=24da147d4b2beb5864b43000528889c786e9bb2658dacb95859a6ad0bd8d0b73\n",
            "  Stored in directory: /root/.cache/pip/wheels/9f/b6/0e/6f26eb9e6eb53ff2107a7888d72b5a6a597593956113037828\n",
            "Successfully built gdown mpld3 sqlitedict langdetect pptree\n",
            "Installing collected packages: tokenizers, sqlitedict, sentencepiece, safetensors, pptree, mpld3, janome, urllib3, segtok, nvidia-nvtx-cu11, nvidia-nccl-cu11, nvidia-cusparse-cu11, nvidia-curand-cu11, nvidia-cufft-cu11, nvidia-cuda-runtime-cu11, nvidia-cuda-nvrtc-cu11, nvidia-cuda-cupti-cu11, nvidia-cublas-cu11, langdetect, jmespath, ftfy, deprecated, conllu, nvidia-cusolver-cu11, nvidia-cudnn-cu11, botocore, wikipedia-api, s3transfer, huggingface-hub, bpemb, transformers, gdown, boto3, torch, accelerate, transformer-smaller-training-vocab, pytorch-revgrad, flair\n",
            "  Attempting uninstall: urllib3\n",
            "    Found existing installation: urllib3 2.0.4\n",
            "    Uninstalling urllib3-2.0.4:\n",
            "      Successfully uninstalled urllib3-2.0.4\n",
            "  Attempting uninstall: gdown\n",
            "    Found existing installation: gdown 4.6.6\n",
            "    Uninstalling gdown-4.6.6:\n",
            "      Successfully uninstalled gdown-4.6.6\n",
            "  Attempting uninstall: torch\n",
            "    Found existing installation: torch 2.0.1+cu118\n",
            "    Uninstalling torch-2.0.1+cu118:\n",
            "      Successfully uninstalled torch-2.0.1+cu118\n",
            "\u001b[31mERROR: pip's dependency resolver does not currently take into account all the packages that are installed. This behaviour is the source of the following dependency conflicts.\n",
            "torchaudio 2.0.2+cu118 requires torch==2.0.1, but you have torch 2.0.0 which is incompatible.\n",
            "torchdata 0.6.1 requires torch==2.0.1, but you have torch 2.0.0 which is incompatible.\n",
            "torchtext 0.15.2 requires torch==2.0.1, but you have torch 2.0.0 which is incompatible.\n",
            "torchvision 0.15.2+cu118 requires torch==2.0.1, but you have torch 2.0.0 which is incompatible.\u001b[0m\u001b[31m\n",
            "\u001b[0mSuccessfully installed accelerate-0.22.0 boto3-1.28.42 botocore-1.31.42 bpemb-0.3.4 conllu-4.5.3 deprecated-1.2.14 flair-0.12.2 ftfy-6.1.1 gdown-4.4.0 huggingface-hub-0.16.4 janome-0.5.0 jmespath-1.0.1 langdetect-1.0.9 mpld3-0.3 nvidia-cublas-cu11-11.10.3.66 nvidia-cuda-cupti-cu11-11.7.101 nvidia-cuda-nvrtc-cu11-11.7.99 nvidia-cuda-runtime-cu11-11.7.99 nvidia-cudnn-cu11-8.5.0.96 nvidia-cufft-cu11-10.9.0.58 nvidia-curand-cu11-10.2.10.91 nvidia-cusolver-cu11-11.4.0.1 nvidia-cusparse-cu11-11.7.4.91 nvidia-nccl-cu11-2.14.3 nvidia-nvtx-cu11-11.7.91 pptree-3.1 pytorch-revgrad-0.2.0 s3transfer-0.6.2 safetensors-0.3.3 segtok-1.5.11 sentencepiece-0.1.99 sqlitedict-2.1.0 tokenizers-0.13.3 torch-2.0.0 transformer-smaller-training-vocab-0.3.1 transformers-4.33.1 urllib3-1.26.16 wikipedia-api-0.6.0\n"
          ]
        }
      ]
    },
    {
      "cell_type": "code",
      "source": [
        "from flair.data import Corpus, Sentence\n",
        "from flair.datasets import ColumnCorpus\n",
        "from flair.embeddings import StackedEmbeddings, BytePairEmbeddings, CharacterEmbeddings,WordEmbeddings,FlairEmbeddings\n",
        "from flair.models import SequenceTagger\n",
        "from flair.trainers import ModelTrainer\n",
        "from typing import List\n",
        "\n"
      ],
      "metadata": {
        "id": "2vebMRd7Z0-H"
      },
      "execution_count": 43,
      "outputs": []
    },
    {
      "cell_type": "code",
      "source": [
        "embedding_types = [BytePairEmbeddings('en'), CharacterEmbeddings()]\n"
      ],
      "metadata": {
        "colab": {
          "base_uri": "https://localhost:8080/"
        },
        "id": "5UM5sp03cSXi",
        "outputId": "7621e982-599b-42a9-a155-47ca484a278a"
      },
      "execution_count": 8,
      "outputs": [
        {
          "output_type": "stream",
          "name": "stdout",
          "text": [
            "downloading https://nlp.h-its.org/bpemb/en/en.wiki.bpe.vs100000.model\n"
          ]
        },
        {
          "output_type": "stream",
          "name": "stderr",
          "text": [
            "100%|██████████| 1987533/1987533 [00:00<00:00, 2289482.63B/s]\n"
          ]
        },
        {
          "output_type": "stream",
          "name": "stdout",
          "text": [
            "downloading https://nlp.h-its.org/bpemb/en/en.wiki.bpe.vs100000.d50.w2v.bin.tar.gz\n"
          ]
        },
        {
          "output_type": "stream",
          "name": "stderr",
          "text": [
            "100%|██████████| 19357958/19357958 [00:02<00:00, 9001720.52B/s] \n"
          ]
        },
        {
          "output_type": "stream",
          "name": "stdout",
          "text": [
            "2023-09-07 07:25:10,555 https://flair.informatik.hu-berlin.de/resources/characters/common_characters not found in cache, downloading to /tmp/tmp8vsf9ccd\n"
          ]
        },
        {
          "output_type": "stream",
          "name": "stderr",
          "text": [
            "100%|██████████| 2.82k/2.82k [00:00<00:00, 6.58MB/s]"
          ]
        },
        {
          "output_type": "stream",
          "name": "stdout",
          "text": [
            "2023-09-07 07:25:11,175 copying /tmp/tmp8vsf9ccd to cache at /root/.flair/datasets/common_characters\n",
            "2023-09-07 07:25:11,178 removing temp file /tmp/tmp8vsf9ccd\n"
          ]
        },
        {
          "output_type": "stream",
          "name": "stderr",
          "text": [
            "\n"
          ]
        }
      ]
    },
    {
      "cell_type": "code",
      "source": [
        "embedding_types = [\n",
        "    WordEmbeddings('glove'),\n",
        "    FlairEmbeddings('news-forward'),\n",
        "    FlairEmbeddings('news-backward'),\n",
        "]"
      ],
      "metadata": {
        "colab": {
          "base_uri": "https://localhost:8080/"
        },
        "id": "TWf9eDzBlAoD",
        "outputId": "15fc058a-899d-44fc-f7c8-4d49200c02f7"
      },
      "execution_count": 44,
      "outputs": [
        {
          "output_type": "stream",
          "name": "stdout",
          "text": [
            "2023-09-07 07:40:37,025 https://flair.informatik.hu-berlin.de/resources/embeddings/flair/news-forward-0.4.1.pt not found in cache, downloading to /tmp/tmp3m7n7vlx\n"
          ]
        },
        {
          "output_type": "stream",
          "name": "stderr",
          "text": [
            "100%|██████████| 69.7M/69.7M [00:04<00:00, 14.8MB/s]"
          ]
        },
        {
          "output_type": "stream",
          "name": "stdout",
          "text": [
            "2023-09-07 07:40:42,591 copying /tmp/tmp3m7n7vlx to cache at /root/.flair/embeddings/news-forward-0.4.1.pt\n"
          ]
        },
        {
          "output_type": "stream",
          "name": "stderr",
          "text": [
            "\n"
          ]
        },
        {
          "output_type": "stream",
          "name": "stdout",
          "text": [
            "2023-09-07 07:40:42,688 removing temp file /tmp/tmp3m7n7vlx\n",
            "2023-09-07 07:40:43,486 https://flair.informatik.hu-berlin.de/resources/embeddings/flair/news-backward-0.4.1.pt not found in cache, downloading to /tmp/tmpoi12w7k5\n"
          ]
        },
        {
          "output_type": "stream",
          "name": "stderr",
          "text": [
            "100%|██████████| 69.7M/69.7M [00:04<00:00, 14.7MB/s]"
          ]
        },
        {
          "output_type": "stream",
          "name": "stdout",
          "text": [
            "2023-09-07 07:40:49,030 copying /tmp/tmpoi12w7k5 to cache at /root/.flair/embeddings/news-backward-0.4.1.pt\n"
          ]
        },
        {
          "output_type": "stream",
          "name": "stderr",
          "text": [
            "\n"
          ]
        },
        {
          "output_type": "stream",
          "name": "stdout",
          "text": [
            "2023-09-07 07:40:49,167 removing temp file /tmp/tmpoi12w7k5\n"
          ]
        }
      ]
    },
    {
      "cell_type": "code",
      "source": [
        "embeddings : StackedEmbeddings = StackedEmbeddings(embeddings=embedding_types)"
      ],
      "metadata": {
        "id": "UxWWIdWHlGo1"
      },
      "execution_count": 45,
      "outputs": []
    },
    {
      "cell_type": "code",
      "source": [
        "columns = {0 : 'text', 1 : 'ner'}\n",
        "data_folder = '/content'\n",
        "\n",
        "corpus = ColumnCorpus(data_folder, columns, train_file = 'data.txt')\n"
      ],
      "metadata": {
        "colab": {
          "base_uri": "https://localhost:8080/"
        },
        "id": "cuOp2N9NwElw",
        "outputId": "723f28e2-7325-40d4-d404-5a63732bbbb0"
      },
      "execution_count": 9,
      "outputs": [
        {
          "output_type": "stream",
          "name": "stdout",
          "text": [
            "2023-09-07 07:25:18,780 Reading data from /content\n",
            "2023-09-07 07:25:18,783 Train: /content/data.txt\n",
            "2023-09-07 07:25:18,788 Dev: None\n",
            "2023-09-07 07:25:18,790 Test: None\n"
          ]
        }
      ]
    },
    {
      "cell_type": "code",
      "source": [
        "tag_type = 'ner'\n",
        "tag_dictionary = corpus.make_tag_dictionary(tag_type=tag_type)\n",
        "print(tag_dictionary)\n"
      ],
      "metadata": {
        "colab": {
          "base_uri": "https://localhost:8080/"
        },
        "id": "30ZaM7OJdVpP",
        "outputId": "4ce6a857-771c-4402-ce4f-e60bc525dc7e"
      },
      "execution_count": 10,
      "outputs": [
        {
          "output_type": "stream",
          "name": "stdout",
          "text": [
            "Dictionary with 3 tags: O, <START>, <STOP>\n"
          ]
        },
        {
          "output_type": "stream",
          "name": "stderr",
          "text": [
            "<ipython-input-10-be665f193506>:2: DeprecationWarning: Call to deprecated method make_tag_dictionary. (Use 'make_label_dictionary' instead.) -- Deprecated since version 0.8.\n",
            "  tag_dictionary = corpus.make_tag_dictionary(tag_type=tag_type)\n"
          ]
        }
      ]
    },
    {
      "cell_type": "code",
      "source": [
        "tag_dictionary = corpus.make_label_dictionary(label_type='ner')\n",
        "print(tag_dictionary)"
      ],
      "metadata": {
        "colab": {
          "base_uri": "https://localhost:8080/"
        },
        "id": "Jzc_ZWH4zMH9",
        "outputId": "fe7df579-3d04-49c2-d088-53dd59996072"
      },
      "execution_count": 11,
      "outputs": [
        {
          "output_type": "stream",
          "name": "stdout",
          "text": [
            "2023-09-07 07:25:18,963 Computing label dictionary. Progress:\n"
          ]
        },
        {
          "output_type": "stream",
          "name": "stderr",
          "text": [
            "524it [00:00, 37948.98it/s]"
          ]
        },
        {
          "output_type": "stream",
          "name": "stdout",
          "text": [
            "2023-09-07 07:25:18,984 Dictionary created for label 'ner' with 9 values: gpe (seen 343 times), geo (seen 268 times), org (seen 190 times), tim (seen 178 times), per (seen 167 times), art (seen 28 times), eve (seen 8 times), nat (seen 7 times)\n",
            "Dictionary with 9 tags: <unk>, gpe, geo, org, tim, per, art, eve, nat\n"
          ]
        },
        {
          "output_type": "stream",
          "name": "stderr",
          "text": [
            "\n"
          ]
        }
      ]
    },
    {
      "cell_type": "code",
      "source": [
        "sentence: Sentence = corpus.train[201]\n",
        "for span in sentence.get_spans(\"ner\"):\n",
        "    print(span)"
      ],
      "metadata": {
        "colab": {
          "base_uri": "https://localhost:8080/"
        },
        "id": "WMQtflw4yep7",
        "outputId": "deffe451-340c-457f-8815-cc98a99f5a66"
      },
      "execution_count": 46,
      "outputs": [
        {
          "output_type": "stream",
          "name": "stdout",
          "text": [
            "Span[4:5]: \"U.N.\" → org (1.0)\n",
            "Span[8:9]: \"Iraq\" → gpe (1.0)\n",
            "Span[12:14]: \"Saddam Hussein\" → per (1.0)\n",
            "Span[26:27]: \"U.N.\" → org (1.0)\n"
          ]
        }
      ]
    },
    {
      "cell_type": "code",
      "source": [],
      "metadata": {
        "id": "waJvu-PYZ3jq"
      },
      "execution_count": 12,
      "outputs": []
    },
    {
      "cell_type": "code",
      "source": [
        "print(len(corpus.train))\n",
        "print(corpus.train[5].to_tagged_string(\"ner\"))"
      ],
      "metadata": {
        "colab": {
          "base_uri": "https://localhost:8080/"
        },
        "id": "Mo7ZQ-7nsPwb",
        "outputId": "b89dee10-13ce-417b-daa5-d18cf26e139d"
      },
      "execution_count": 13,
      "outputs": [
        {
          "output_type": "stream",
          "name": "stdout",
          "text": [
            "524\n",
            "Sentence[28]: \"The International Atomic Energy Agency is to hold second day of talks in Vienna Wednesday on how to respond to Iran 's resumption of low-level uranium conversion .\" → [\"International Atomic Energy Agency\"/org, \"Vienna\"/geo, \"Wednesday\"/tim, \"Iran\"/gpe]\n"
          ]
        }
      ]
    },
    {
      "cell_type": "code",
      "source": [
        "tagger : SequenceTagger = SequenceTagger(\n",
        "    hidden_size=256, embeddings=embeddings, tag_dictionary=tag_dictionary,\n",
        "    tag_type=tag_type,\n",
        "    use_crf=False,\n",
        "    use_rnn=False,\n",
        "    reproject_embeddings=False,tag_format=\"BIO\")\n",
        "print(tagger)"
      ],
      "metadata": {
        "colab": {
          "base_uri": "https://localhost:8080/"
        },
        "id": "wyP52aCHdJFG",
        "outputId": "0e129bfd-60b9-44e7-a174-a1db4889c1a5"
      },
      "execution_count": 47,
      "outputs": [
        {
          "output_type": "stream",
          "name": "stdout",
          "text": [
            "2023-09-07 07:41:17,628 SequenceTagger predicts: Dictionary with 17 tags: O, B-gpe, I-gpe, B-geo, I-geo, B-org, I-org, B-tim, I-tim, B-per, I-per, B-art, I-art, B-eve, I-eve, B-nat, I-nat\n",
            "SequenceTagger(\n",
            "  (embeddings): StackedEmbeddings(\n",
            "    (list_embedding_0): WordEmbeddings(\n",
            "      'glove'\n",
            "      (embedding): Embedding(400001, 100)\n",
            "    )\n",
            "    (list_embedding_1): FlairEmbeddings(\n",
            "      (lm): LanguageModel(\n",
            "        (drop): Dropout(p=0.05, inplace=False)\n",
            "        (encoder): Embedding(300, 100)\n",
            "        (rnn): LSTM(100, 2048)\n",
            "      )\n",
            "    )\n",
            "    (list_embedding_2): FlairEmbeddings(\n",
            "      (lm): LanguageModel(\n",
            "        (drop): Dropout(p=0.05, inplace=False)\n",
            "        (encoder): Embedding(300, 100)\n",
            "        (rnn): LSTM(100, 2048)\n",
            "      )\n",
            "    )\n",
            "  )\n",
            "  (locked_dropout): LockedDropout(p=0.5)\n",
            "  (linear): Linear(in_features=4196, out_features=17, bias=True)\n",
            "  (loss_function): CrossEntropyLoss()\n",
            ")\n"
          ]
        }
      ]
    },
    {
      "cell_type": "code",
      "source": [
        "trainer = ModelTrainer(tagger, corpus)\n",
        "trainer.train('model', learning_rate=0.1, mini_batch_size=8, max_epochs=5)"
      ],
      "metadata": {
        "colab": {
          "base_uri": "https://localhost:8080/"
        },
        "id": "DliwFsWpZ8zu",
        "outputId": "070bbec5-c09f-48ab-8c13-b2a694d04043"
      },
      "execution_count": 48,
      "outputs": [
        {
          "output_type": "stream",
          "name": "stdout",
          "text": [
            "2023-09-07 07:41:28,809 ----------------------------------------------------------------------------------------------------\n",
            "2023-09-07 07:41:28,813 Model: \"SequenceTagger(\n",
            "  (embeddings): StackedEmbeddings(\n",
            "    (list_embedding_0): WordEmbeddings(\n",
            "      'glove'\n",
            "      (embedding): Embedding(400001, 100)\n",
            "    )\n",
            "    (list_embedding_1): FlairEmbeddings(\n",
            "      (lm): LanguageModel(\n",
            "        (drop): Dropout(p=0.05, inplace=False)\n",
            "        (encoder): Embedding(300, 100)\n",
            "        (rnn): LSTM(100, 2048)\n",
            "      )\n",
            "    )\n",
            "    (list_embedding_2): FlairEmbeddings(\n",
            "      (lm): LanguageModel(\n",
            "        (drop): Dropout(p=0.05, inplace=False)\n",
            "        (encoder): Embedding(300, 100)\n",
            "        (rnn): LSTM(100, 2048)\n",
            "      )\n",
            "    )\n",
            "  )\n",
            "  (locked_dropout): LockedDropout(p=0.5)\n",
            "  (linear): Linear(in_features=4196, out_features=17, bias=True)\n",
            "  (loss_function): CrossEntropyLoss()\n",
            ")\"\n",
            "2023-09-07 07:41:28,816 ----------------------------------------------------------------------------------------------------\n",
            "2023-09-07 07:41:28,818 Corpus: \"Corpus: 524 train + 58 dev + 65 test sentences\"\n",
            "2023-09-07 07:41:28,821 ----------------------------------------------------------------------------------------------------\n",
            "2023-09-07 07:41:28,824 Parameters:\n",
            "2023-09-07 07:41:28,826  - learning_rate: \"0.100000\"\n",
            "2023-09-07 07:41:28,827  - mini_batch_size: \"8\"\n",
            "2023-09-07 07:41:28,828  - patience: \"3\"\n",
            "2023-09-07 07:41:28,830  - anneal_factor: \"0.5\"\n",
            "2023-09-07 07:41:28,831  - max_epochs: \"5\"\n",
            "2023-09-07 07:41:28,832  - shuffle: \"True\"\n",
            "2023-09-07 07:41:28,834  - train_with_dev: \"False\"\n",
            "2023-09-07 07:41:28,835  - batch_growth_annealing: \"False\"\n",
            "2023-09-07 07:41:28,836 ----------------------------------------------------------------------------------------------------\n",
            "2023-09-07 07:41:28,873 Model training base path: \"model\"\n",
            "2023-09-07 07:41:28,874 ----------------------------------------------------------------------------------------------------\n",
            "2023-09-07 07:41:28,877 Device: cuda:0\n",
            "2023-09-07 07:41:28,879 ----------------------------------------------------------------------------------------------------\n",
            "2023-09-07 07:41:28,881 Embeddings storage mode: cpu\n",
            "2023-09-07 07:41:28,890 ----------------------------------------------------------------------------------------------------\n"
          ]
        },
        {
          "output_type": "stream",
          "name": "stderr",
          "text": [
            "/usr/local/lib/python3.10/dist-packages/flair/trainers/trainer.py:69: UserWarning: There should be no best model saved at epoch 1 except there is a model from previous trainings in your training folder. All previous best models will be deleted.\n",
            "  warnings.warn(\n"
          ]
        },
        {
          "output_type": "stream",
          "name": "stdout",
          "text": [
            "2023-09-07 07:41:30,179 epoch 1 - iter 6/66 - loss 1.32320025 - time (sec): 1.29 - samples/sec: 865.81 - lr: 0.100000\n",
            "2023-09-07 07:41:31,278 epoch 1 - iter 12/66 - loss 0.95072603 - time (sec): 2.39 - samples/sec: 900.16 - lr: 0.100000\n",
            "2023-09-07 07:41:32,428 epoch 1 - iter 18/66 - loss 0.84747730 - time (sec): 3.54 - samples/sec: 879.63 - lr: 0.100000\n",
            "2023-09-07 07:41:33,575 epoch 1 - iter 24/66 - loss 0.76343494 - time (sec): 4.68 - samples/sec: 902.35 - lr: 0.100000\n",
            "2023-09-07 07:41:34,688 epoch 1 - iter 30/66 - loss 0.70460151 - time (sec): 5.80 - samples/sec: 891.81 - lr: 0.100000\n",
            "2023-09-07 07:41:35,879 epoch 1 - iter 36/66 - loss 0.65422044 - time (sec): 6.99 - samples/sec: 886.27 - lr: 0.100000\n",
            "2023-09-07 07:41:37,140 epoch 1 - iter 42/66 - loss 0.60371774 - time (sec): 8.25 - samples/sec: 882.55 - lr: 0.100000\n",
            "2023-09-07 07:41:38,387 epoch 1 - iter 48/66 - loss 0.56644006 - time (sec): 9.50 - samples/sec: 877.72 - lr: 0.100000\n",
            "2023-09-07 07:41:39,628 epoch 1 - iter 54/66 - loss 0.53318711 - time (sec): 10.74 - samples/sec: 878.25 - lr: 0.100000\n",
            "2023-09-07 07:41:41,031 epoch 1 - iter 60/66 - loss 0.50261077 - time (sec): 12.14 - samples/sec: 874.64 - lr: 0.100000\n",
            "2023-09-07 07:41:42,171 epoch 1 - iter 66/66 - loss 0.48193292 - time (sec): 13.28 - samples/sec: 874.57 - lr: 0.100000\n",
            "2023-09-07 07:41:42,172 ----------------------------------------------------------------------------------------------------\n",
            "2023-09-07 07:41:42,176 EPOCH 1 done: loss 0.4819 - lr 0.100000\n"
          ]
        },
        {
          "output_type": "stream",
          "name": "stderr",
          "text": [
            "100%|██████████| 8/8 [00:01<00:00,  4.71it/s]"
          ]
        },
        {
          "output_type": "stream",
          "name": "stdout",
          "text": [
            "2023-09-07 07:41:43,885 Evaluating as a multi-label problem: False\n",
            "2023-09-07 07:41:43,899 DEV : loss 0.2048266977071762 - f1-score (micro avg)  0.6288\n",
            "2023-09-07 07:41:43,908 BAD EPOCHS (no improvement): 0\n",
            "2023-09-07 07:41:43,909 saving best model\n"
          ]
        },
        {
          "output_type": "stream",
          "name": "stderr",
          "text": [
            "\n"
          ]
        },
        {
          "output_type": "stream",
          "name": "stdout",
          "text": [
            "2023-09-07 07:41:44,978 ----------------------------------------------------------------------------------------------------\n",
            "2023-09-07 07:41:45,082 epoch 2 - iter 6/66 - loss 0.20792385 - time (sec): 0.10 - samples/sec: 10162.36 - lr: 0.100000\n",
            "2023-09-07 07:41:45,161 epoch 2 - iter 12/66 - loss 0.23963609 - time (sec): 0.18 - samples/sec: 11476.75 - lr: 0.100000\n",
            "2023-09-07 07:41:45,240 epoch 2 - iter 18/66 - loss 0.24580273 - time (sec): 0.26 - samples/sec: 12137.15 - lr: 0.100000\n",
            "2023-09-07 07:41:45,361 epoch 2 - iter 24/66 - loss 0.25070366 - time (sec): 0.38 - samples/sec: 11086.55 - lr: 0.100000\n",
            "2023-09-07 07:41:45,437 epoch 2 - iter 30/66 - loss 0.24759089 - time (sec): 0.46 - samples/sec: 11578.79 - lr: 0.100000\n",
            "2023-09-07 07:41:45,518 epoch 2 - iter 36/66 - loss 0.23970549 - time (sec): 0.54 - samples/sec: 11901.93 - lr: 0.100000\n",
            "2023-09-07 07:41:45,607 epoch 2 - iter 42/66 - loss 0.24095267 - time (sec): 0.63 - samples/sec: 11992.91 - lr: 0.100000\n",
            "2023-09-07 07:41:45,690 epoch 2 - iter 48/66 - loss 0.23985946 - time (sec): 0.71 - samples/sec: 12226.32 - lr: 0.100000\n",
            "2023-09-07 07:41:45,763 epoch 2 - iter 54/66 - loss 0.23830705 - time (sec): 0.78 - samples/sec: 12369.56 - lr: 0.100000\n",
            "2023-09-07 07:41:45,840 epoch 2 - iter 60/66 - loss 0.23233528 - time (sec): 0.86 - samples/sec: 12397.42 - lr: 0.100000\n",
            "2023-09-07 07:41:45,912 epoch 2 - iter 66/66 - loss 0.23018585 - time (sec): 0.93 - samples/sec: 12464.71 - lr: 0.100000\n",
            "2023-09-07 07:41:45,913 ----------------------------------------------------------------------------------------------------\n",
            "2023-09-07 07:41:45,916 EPOCH 2 done: loss 0.2302 - lr 0.100000\n"
          ]
        },
        {
          "output_type": "stream",
          "name": "stderr",
          "text": [
            "100%|██████████| 8/8 [00:00<00:00, 52.51it/s]"
          ]
        },
        {
          "output_type": "stream",
          "name": "stdout",
          "text": [
            "2023-09-07 07:41:46,078 Evaluating as a multi-label problem: False\n",
            "2023-09-07 07:41:46,091 DEV : loss 0.15193161368370056 - f1-score (micro avg)  0.7166\n",
            "2023-09-07 07:41:46,100 BAD EPOCHS (no improvement): 0\n",
            "2023-09-07 07:41:46,102 saving best model\n"
          ]
        },
        {
          "output_type": "stream",
          "name": "stderr",
          "text": [
            "\n"
          ]
        },
        {
          "output_type": "stream",
          "name": "stdout",
          "text": [
            "2023-09-07 07:41:48,155 ----------------------------------------------------------------------------------------------------\n",
            "2023-09-07 07:41:48,283 epoch 3 - iter 6/66 - loss 0.22066015 - time (sec): 0.10 - samples/sec: 9575.58 - lr: 0.100000\n",
            "2023-09-07 07:41:48,392 epoch 3 - iter 12/66 - loss 0.21026338 - time (sec): 0.20 - samples/sec: 9245.41 - lr: 0.100000\n",
            "2023-09-07 07:41:48,527 epoch 3 - iter 18/66 - loss 0.19138214 - time (sec): 0.34 - samples/sec: 8654.96 - lr: 0.100000\n",
            "2023-09-07 07:41:48,639 epoch 3 - iter 24/66 - loss 0.20058479 - time (sec): 0.45 - samples/sec: 9046.76 - lr: 0.100000\n",
            "2023-09-07 07:41:48,744 epoch 3 - iter 30/66 - loss 0.20468762 - time (sec): 0.56 - samples/sec: 9204.52 - lr: 0.100000\n",
            "2023-09-07 07:41:48,858 epoch 3 - iter 36/66 - loss 0.20173739 - time (sec): 0.67 - samples/sec: 9325.22 - lr: 0.100000\n",
            "2023-09-07 07:41:48,966 epoch 3 - iter 42/66 - loss 0.19612749 - time (sec): 0.78 - samples/sec: 9412.92 - lr: 0.100000\n",
            "2023-09-07 07:41:49,097 epoch 3 - iter 48/66 - loss 0.19737756 - time (sec): 0.91 - samples/sec: 9205.79 - lr: 0.100000\n",
            "2023-09-07 07:41:49,217 epoch 3 - iter 54/66 - loss 0.19478635 - time (sec): 1.03 - samples/sec: 9213.69 - lr: 0.100000\n",
            "2023-09-07 07:41:49,325 epoch 3 - iter 60/66 - loss 0.19312967 - time (sec): 1.14 - samples/sec: 9262.40 - lr: 0.100000\n",
            "2023-09-07 07:41:49,439 epoch 3 - iter 66/66 - loss 0.19607558 - time (sec): 1.25 - samples/sec: 9278.38 - lr: 0.100000\n",
            "2023-09-07 07:41:49,441 ----------------------------------------------------------------------------------------------------\n",
            "2023-09-07 07:41:49,443 EPOCH 3 done: loss 0.1961 - lr 0.100000\n"
          ]
        },
        {
          "output_type": "stream",
          "name": "stderr",
          "text": [
            "100%|██████████| 8/8 [00:00<00:00, 36.28it/s]"
          ]
        },
        {
          "output_type": "stream",
          "name": "stdout",
          "text": [
            "2023-09-07 07:41:49,674 Evaluating as a multi-label problem: False\n",
            "2023-09-07 07:41:49,693 DEV : loss 0.14233070611953735 - f1-score (micro avg)  0.7152\n",
            "2023-09-07 07:41:49,705 BAD EPOCHS (no improvement): 1\n",
            "2023-09-07 07:41:49,707 ----------------------------------------------------------------------------------------------------\n"
          ]
        },
        {
          "output_type": "stream",
          "name": "stderr",
          "text": [
            "\n"
          ]
        },
        {
          "output_type": "stream",
          "name": "stdout",
          "text": [
            "2023-09-07 07:41:49,814 epoch 4 - iter 6/66 - loss 0.19678828 - time (sec): 0.10 - samples/sec: 8772.52 - lr: 0.100000\n",
            "2023-09-07 07:41:49,923 epoch 4 - iter 12/66 - loss 0.19080541 - time (sec): 0.21 - samples/sec: 9072.97 - lr: 0.100000\n",
            "2023-09-07 07:41:50,047 epoch 4 - iter 18/66 - loss 0.20354891 - time (sec): 0.34 - samples/sec: 9304.10 - lr: 0.100000\n",
            "2023-09-07 07:41:50,158 epoch 4 - iter 24/66 - loss 0.18057853 - time (sec): 0.45 - samples/sec: 9305.28 - lr: 0.100000\n",
            "2023-09-07 07:41:50,271 epoch 4 - iter 30/66 - loss 0.18388605 - time (sec): 0.56 - samples/sec: 9358.05 - lr: 0.100000\n",
            "2023-09-07 07:41:50,380 epoch 4 - iter 36/66 - loss 0.17739353 - time (sec): 0.67 - samples/sec: 9400.03 - lr: 0.100000\n",
            "2023-09-07 07:41:50,488 epoch 4 - iter 42/66 - loss 0.17211192 - time (sec): 0.78 - samples/sec: 9516.18 - lr: 0.100000\n",
            "2023-09-07 07:41:50,583 epoch 4 - iter 48/66 - loss 0.17185979 - time (sec): 0.87 - samples/sec: 9564.11 - lr: 0.100000\n",
            "2023-09-07 07:41:50,701 epoch 4 - iter 54/66 - loss 0.17501751 - time (sec): 0.99 - samples/sec: 9635.15 - lr: 0.100000\n",
            "2023-09-07 07:41:50,816 epoch 4 - iter 60/66 - loss 0.17628574 - time (sec): 1.11 - samples/sec: 9556.66 - lr: 0.100000\n",
            "2023-09-07 07:41:50,930 epoch 4 - iter 66/66 - loss 0.17711160 - time (sec): 1.22 - samples/sec: 9511.75 - lr: 0.100000\n",
            "2023-09-07 07:41:50,934 ----------------------------------------------------------------------------------------------------\n",
            "2023-09-07 07:41:50,938 EPOCH 4 done: loss 0.1771 - lr 0.100000\n"
          ]
        },
        {
          "output_type": "stream",
          "name": "stderr",
          "text": [
            "100%|██████████| 8/8 [00:00<00:00, 40.61it/s]"
          ]
        },
        {
          "output_type": "stream",
          "name": "stdout",
          "text": [
            "2023-09-07 07:41:51,144 Evaluating as a multi-label problem: False\n",
            "2023-09-07 07:41:51,164 DEV : loss 0.14102257788181305 - f1-score (micro avg)  0.7157\n",
            "2023-09-07 07:41:51,182 BAD EPOCHS (no improvement): 2\n",
            "2023-09-07 07:41:51,185 ----------------------------------------------------------------------------------------------------\n"
          ]
        },
        {
          "output_type": "stream",
          "name": "stderr",
          "text": [
            "\n"
          ]
        },
        {
          "output_type": "stream",
          "name": "stdout",
          "text": [
            "2023-09-07 07:41:51,300 epoch 5 - iter 6/66 - loss 0.11946233 - time (sec): 0.11 - samples/sec: 9800.01 - lr: 0.100000\n",
            "2023-09-07 07:41:51,404 epoch 5 - iter 12/66 - loss 0.15634493 - time (sec): 0.22 - samples/sec: 9659.81 - lr: 0.100000\n",
            "2023-09-07 07:41:51,518 epoch 5 - iter 18/66 - loss 0.16017525 - time (sec): 0.33 - samples/sec: 9587.07 - lr: 0.100000\n",
            "2023-09-07 07:41:51,635 epoch 5 - iter 24/66 - loss 0.15479876 - time (sec): 0.45 - samples/sec: 9709.63 - lr: 0.100000\n",
            "2023-09-07 07:41:51,741 epoch 5 - iter 30/66 - loss 0.15619336 - time (sec): 0.55 - samples/sec: 9710.35 - lr: 0.100000\n",
            "2023-09-07 07:41:51,852 epoch 5 - iter 36/66 - loss 0.16178150 - time (sec): 0.66 - samples/sec: 9727.65 - lr: 0.100000\n",
            "2023-09-07 07:41:51,962 epoch 5 - iter 42/66 - loss 0.15837524 - time (sec): 0.77 - samples/sec: 9698.35 - lr: 0.100000\n",
            "2023-09-07 07:41:52,074 epoch 5 - iter 48/66 - loss 0.16414021 - time (sec): 0.89 - samples/sec: 9694.68 - lr: 0.100000\n",
            "2023-09-07 07:41:52,192 epoch 5 - iter 54/66 - loss 0.16184409 - time (sec): 1.00 - samples/sec: 9640.67 - lr: 0.100000\n",
            "2023-09-07 07:41:52,306 epoch 5 - iter 60/66 - loss 0.16123216 - time (sec): 1.12 - samples/sec: 9570.95 - lr: 0.100000\n",
            "2023-09-07 07:41:52,403 epoch 5 - iter 66/66 - loss 0.16270770 - time (sec): 1.22 - samples/sec: 9553.42 - lr: 0.100000\n",
            "2023-09-07 07:41:52,406 ----------------------------------------------------------------------------------------------------\n",
            "2023-09-07 07:41:52,407 EPOCH 5 done: loss 0.1627 - lr 0.100000\n"
          ]
        },
        {
          "output_type": "stream",
          "name": "stderr",
          "text": [
            "100%|██████████| 8/8 [00:00<00:00, 35.53it/s]"
          ]
        },
        {
          "output_type": "stream",
          "name": "stdout",
          "text": [
            "2023-09-07 07:41:52,641 Evaluating as a multi-label problem: False\n",
            "2023-09-07 07:41:52,660 DEV : loss 0.1288498491048813 - f1-score (micro avg)  0.7577\n",
            "2023-09-07 07:41:52,673 BAD EPOCHS (no improvement): 0\n",
            "2023-09-07 07:41:52,675 saving best model\n"
          ]
        },
        {
          "output_type": "stream",
          "name": "stderr",
          "text": [
            "\n"
          ]
        },
        {
          "output_type": "stream",
          "name": "stdout",
          "text": [
            "2023-09-07 07:41:55,543 ----------------------------------------------------------------------------------------------------\n",
            "2023-09-07 07:41:56,762 SequenceTagger predicts: Dictionary with 17 tags: O, B-gpe, I-gpe, B-geo, I-geo, B-org, I-org, B-tim, I-tim, B-per, I-per, B-art, I-art, B-eve, I-eve, B-nat, I-nat\n"
          ]
        },
        {
          "output_type": "stream",
          "name": "stderr",
          "text": [
            "100%|██████████| 9/9 [00:01<00:00,  5.16it/s]"
          ]
        },
        {
          "output_type": "stream",
          "name": "stdout",
          "text": [
            "2023-09-07 07:41:58,692 Evaluating as a multi-label problem: False\n",
            "2023-09-07 07:41:58,708 0.7172\t0.7273\t0.7222\t0.5943\n",
            "2023-09-07 07:41:58,709 \n",
            "Results:\n",
            "- F-score (micro) 0.7222\n",
            "- F-score (macro) 0.4618\n",
            "- Accuracy 0.5943\n",
            "\n",
            "By class:\n",
            "              precision    recall  f1-score   support\n",
            "\n",
            "         geo     0.7442    0.8000    0.7711        40\n",
            "         gpe     0.8824    0.7692    0.8219        39\n",
            "         org     0.4400    0.5000    0.4681        22\n",
            "         per     0.7391    0.8947    0.8095        19\n",
            "         tim     0.8235    0.8235    0.8235        17\n",
            "         art     0.0000    0.0000    0.0000         2\n",
            "         nat     0.0000    0.0000    0.0000         2\n",
            "         eve     0.0000    0.0000    0.0000         2\n",
            "\n",
            "   micro avg     0.7172    0.7273    0.7222       143\n",
            "   macro avg     0.4536    0.4734    0.4618       143\n",
            "weighted avg     0.7126    0.7273    0.7173       143\n",
            "\n",
            "2023-09-07 07:41:58,712 ----------------------------------------------------------------------------------------------------\n"
          ]
        },
        {
          "output_type": "stream",
          "name": "stderr",
          "text": [
            "\n"
          ]
        },
        {
          "output_type": "execute_result",
          "data": {
            "text/plain": [
              "{'test_score': 0.7222222222222223,\n",
              " 'dev_score_history': [0.62876254180602,\n",
              "  0.7166123778501629,\n",
              "  0.7152317880794701,\n",
              "  0.7157190635451505,\n",
              "  0.7576791808873721],\n",
              " 'train_loss_history': [0.4819329242974014,\n",
              "  0.23018584657493493,\n",
              "  0.19607558316534868,\n",
              "  0.17711160358076491,\n",
              "  0.16270769760301335],\n",
              " 'dev_loss_history': [0.2048266977071762,\n",
              "  0.15193161368370056,\n",
              "  0.14233070611953735,\n",
              "  0.14102257788181305,\n",
              "  0.1288498491048813]}"
            ]
          },
          "metadata": {},
          "execution_count": 48
        }
      ]
    },
    {
      "cell_type": "code",
      "source": [
        "# /content/sample_data"
      ],
      "metadata": {
        "id": "PdhhqLRqaDTT"
      },
      "execution_count": 30,
      "outputs": []
    },
    {
      "cell_type": "code",
      "source": [],
      "metadata": {
        "id": "doXEcr4raKIP"
      },
      "execution_count": 30,
      "outputs": []
    },
    {
      "cell_type": "code",
      "source": [
        "model = SequenceTagger.load('model/best-model.pt')\n",
        "\n"
      ],
      "metadata": {
        "colab": {
          "base_uri": "https://localhost:8080/"
        },
        "id": "H_IlkLv3rxug",
        "outputId": "e3a1689e-41cc-41a7-8150-35c12e7609bd"
      },
      "execution_count": 49,
      "outputs": [
        {
          "output_type": "stream",
          "name": "stdout",
          "text": [
            "2023-09-07 07:42:13,395 SequenceTagger predicts: Dictionary with 17 tags: O, B-gpe, I-gpe, B-geo, I-geo, B-org, I-org, B-tim, I-tim, B-per, I-per, B-art, I-art, B-eve, I-eve, B-nat, I-nat\n"
          ]
        }
      ]
    },
    {
      "cell_type": "code",
      "source": [
        "sentence = Sentence('i am from Bihar')\n",
        "\n",
        "model.predict(sentence)\n",
        "print(sentence.to_tagged_string())\n"
      ],
      "metadata": {
        "colab": {
          "base_uri": "https://localhost:8080/"
        },
        "id": "lNZhLR1Gr1sz",
        "outputId": "5a0eb228-73ed-4d74-9681-9af1ceadae44"
      },
      "execution_count": 57,
      "outputs": [
        {
          "output_type": "stream",
          "name": "stdout",
          "text": [
            "Sentence[4]: \"i am from Bihar\" → [\"Bihar\"/geo]\n"
          ]
        }
      ]
    },
    {
      "cell_type": "code",
      "source": [
        "for entity in sentence.get_spans('ner'):\n",
        "    print(entity)"
      ],
      "metadata": {
        "colab": {
          "base_uri": "https://localhost:8080/"
        },
        "id": "Sd4Tahaw2zQc",
        "outputId": "b4e48454-8834-452a-e12e-d9f2bf614f36"
      },
      "execution_count": 55,
      "outputs": [
        {
          "output_type": "stream",
          "name": "stdout",
          "text": [
            "Span[2:3]: \"Bihar\" → geo (0.5776)\n"
          ]
        }
      ]
    },
    {
      "cell_type": "code",
      "source": [],
      "metadata": {
        "id": "apW_YKvM2_H5"
      },
      "execution_count": 19,
      "outputs": []
    }
  ]
}